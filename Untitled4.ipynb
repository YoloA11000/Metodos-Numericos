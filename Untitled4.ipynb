{
  "nbformat": 4,
  "nbformat_minor": 0,
  "metadata": {
    "colab": {
      "provenance": [],
      "authorship_tag": "ABX9TyM1cYbl+UsKJw6Kk7TyeQzp",
      "include_colab_link": true
    },
    "kernelspec": {
      "name": "python3",
      "display_name": "Python 3"
    },
    "language_info": {
      "name": "python"
    }
  },
  "cells": [
    {
      "cell_type": "markdown",
      "metadata": {
        "id": "view-in-github",
        "colab_type": "text"
      },
      "source": [
        "<a href=\"https://colab.research.google.com/github/YoloA11000/Metodos-Numericos/blob/main/Untitled4.ipynb\" target=\"_parent\"><img src=\"https://colab.research.google.com/assets/colab-badge.svg\" alt=\"Open In Colab\"/></a>"
      ]
    },
    {
      "cell_type": "markdown",
      "source": [
        "#    Método de la Posición Falsa\n",
        "\n",
        "  Implementa el método de la posición falsa para encontrar una raíz de la función f(x).\n",
        "    \n",
        "   Parámetros:\n",
        "    \n",
        "\n",
        "*  f   -- Función continua en el intervalo [p0, p1] con f(p0) y f(p1) de signos opuestos.\n",
        "*   p0  -- Extremo izquierdo del intervalo inicial.\n",
        "*   p1  -- Extremo derecho del intervalo inicial.\n",
        "*   tol -- Tolerancia para el criterio de parada.\n",
        "*   N0  -- Número máximo de iteraciones.\n",
        "\n",
        "Retorna:\n",
        "\n",
        "   La aproximación de la raíz o un mensaje de fallo si no converge en N0 iteraciones.\n",
        "    "
      ],
      "metadata": {
        "id": "deaYYHytykG5"
      }
    },
    {
      "cell_type": "code",
      "execution_count": 6,
      "metadata": {
        "colab": {
          "base_uri": "https://localhost:8080/"
        },
        "id": "Id1U1PC_lD0o",
        "outputId": "db52cc36-be05-4f7b-fc6b-2f7748d41a55"
      },
      "outputs": [
        {
          "output_type": "stream",
          "name": "stdout",
          "text": [
            "+-------------+----------+-------------+------------+-------------+\n",
            "|   Iteración |      p_i |      f(p_i) |   f(p_i-1) |   Error (ε) |\n",
            "+=============+==========+=============+============+=============+\n",
            "|           1 | 0.736384 | 0.00451772  | -0.0782914 |             |\n",
            "+-------------+----------+-------------+------------+-------------+\n",
            "|           2 | 0.739058 | 4.51772e-05 | -0.0782914 |   0.04634   |\n",
            "+-------------+----------+-------------+------------+-------------+\n",
            "|           3 | 0.739085 | 4.50872e-07 | -0.0782914 |   0.0463133 |\n",
            "+-------------+----------+-------------+------------+-------------+\n",
            "Solución encontrada: p = 0.7390848638147098\n"
          ]
        },
        {
          "output_type": "execute_result",
          "data": {
            "text/plain": [
              "0.7390848638147098"
            ]
          },
          "metadata": {},
          "execution_count": 6
        }
      ],
      "source": [
        "from tabulate import tabulate\n",
        "import math\n",
        "\n",
        "def false_position(f, p0, p1, tol, N0):\n",
        "\n",
        "    q0 = f(p0)  # Evaluación de la función en p0\n",
        "    q1 = f(p1)  # Evaluación de la función en p1\n",
        "    table = []  # Lista para almacenar las filas de la tabla\n",
        "\n",
        "    for i in range(1, N0 + 1):\n",
        "        pi = p1 - (q1 * (p1 - p0)) / (q1 - q0)  # Cálculo de la nueva aproximación\n",
        "        qi = f(pi)  # Evaluación de la función en pi\n",
        "        error = abs(pi - p1) if i > 1 else None  # Cálculo del error absoluto\n",
        "\n",
        "        # Agregar datos a la tabla\n",
        "        table.append([i, pi, qi, q1, error])\n",
        "\n",
        "        # Verificación de la tolerancia\n",
        "        if abs(qi) < tol or abs(pi - p1) < tol:\n",
        "            print(tabulate(table, headers=[\"Iteración\", \"p_i\", \"f(p_i)\", \"f(p_i-1)\", \"Error (ε)\"], tablefmt=\"grid\"))\n",
        "            print(f\"Solución encontrada: p = {pi}\")\n",
        "            return pi\n",
        "\n",
        "        # Actualización de valores según el cambio de signo\n",
        "        if q0 * qi < 0:\n",
        "            p1 = pi\n",
        "            q1 = qi\n",
        "        else:\n",
        "            p0 = pi\n",
        "            q0 = qi\n",
        "\n",
        "    # Imprimir la tabla si no se encontró la solución dentro de las iteraciones\n",
        "    print(tabulate(table, headers=[\"Iteración\", \"p_i\", \"f(p_i)\", \"f(p_i-1)\", \"Error (ε)\"], tablefmt=\"grid\"))\n",
        "    print(\"El método falló después de\", N0, \"iteraciones.\")\n",
        "    return None\n",
        "\n",
        "# Función de ejemplo\n",
        "def funcion(x):\n",
        "    return math.cos(x) - x\n",
        "\n",
        "# Solicitar entrada de datos\n",
        "p0 = 0.5\n",
        "p1 = math.pi/4\n",
        "tol = 1e-6\n",
        "N0 = 100\n",
        "\n",
        "# Llamar a la función con los valores ingresados\n",
        "false_position(funcion, p0, p1, tol, N0)\n"
      ]
    }
  ]
}