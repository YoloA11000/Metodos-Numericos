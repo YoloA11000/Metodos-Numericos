{
  "nbformat": 4,
  "nbformat_minor": 0,
  "metadata": {
    "colab": {
      "provenance": [],
      "authorship_tag": "ABX9TyMkdCO+17DkzjPND82J1gYV",
      "include_colab_link": true
    },
    "kernelspec": {
      "name": "python3",
      "display_name": "Python 3"
    },
    "language_info": {
      "name": "python"
    }
  },
  "cells": [
    {
      "cell_type": "markdown",
      "metadata": {
        "id": "view-in-github",
        "colab_type": "text"
      },
      "source": [
        "<a href=\"https://colab.research.google.com/github/YoloA11000/Metodos-Numericos/blob/main/Interpolaci%C3%B3n_Iterada_de_Nerville.ipynb\" target=\"_parent\"><img src=\"https://colab.research.google.com/assets/colab-badge.svg\" alt=\"Open In Colab\"/></a>"
      ]
    },
    {
      "cell_type": "code",
      "execution_count": 1,
      "metadata": {
        "id": "SXMHt2HKXENb",
        "colab": {
          "base_uri": "https://localhost:8080/"
        },
        "outputId": "2981b7c8-ff52-416d-9fe8-fb15f55c6cd2"
      },
      "outputs": [
        {
          "output_type": "stream",
          "name": "stdout",
          "text": [
            "Tabla de interpolación de Neville:\n",
            "   0.7651977                                                     \n",
            "   0.6200860    0.5233449                                        \n",
            "   0.4554022    0.5102968    0.5124715                           \n",
            "   0.2818186    0.5132634    0.5112857    0.5118127              \n",
            "   0.1103623    0.5104270    0.5137361    0.5118302    0.5118200 \n",
            "\n",
            "Valor interpolado P(1.5) = 0.5118200\n"
          ]
        }
      ],
      "source": [
        "def neville(x, X, Y):\n",
        "    \"\"\"\n",
        "    Implementa la interpolación iterada de Neville.\n",
        "\n",
        "    Parámetros:\n",
        "    x : Punto en el que se evalúa el polinomio interpolador.\n",
        "    X : Lista de nodos (x0, x1, ..., xn).\n",
        "    Y : Lista de valores f(x0), f(x1), ..., f(xn).\n",
        "\n",
        "    Retorna:\n",
        "    Q : Lista de listas de valores flotantes\n",
        "        Tabla triangular de interpolación de Neville.\n",
        "    Px : Valor aproximado del polinomio en x.\n",
        "    \"\"\"\n",
        "    n = len(X)\n",
        "    # Inicializa una matriz Q[n][n] con ceros\n",
        "    Q = [[0.0 for _ in range(n)] for _ in range(n)]\n",
        "\n",
        "    # Llena la primera columna con f(xi)\n",
        "    for i in range(n):\n",
        "        Q[i][0] = Y[i]\n",
        "\n",
        "    # Aplica la fórmula de Neville para llenar la tabla\n",
        "    for i in range(1, n):\n",
        "        for j in range(1, i + 1):\n",
        "            xi = X[i]\n",
        "            xi_j = X[i - j]\n",
        "            # Fórmula: Q[i][j] = ((x - x_{i-j}) * Q[i][j-1] - (x - x_i) * Q[i-1][j-1]) / (x_i - x_{i-j})\n",
        "            numerador = (x - xi_j) * Q[i][j - 1] - (x - xi) * Q[i - 1][j - 1]\n",
        "            denominador = xi - xi_j\n",
        "            Q[i][j] = numerador / denominador\n",
        "\n",
        "    Px = Q[n - 1][n - 1]\n",
        "    return Q, Px\n",
        "\n",
        "\n",
        "def imprimir_tabla(Q):\n",
        "  #Imprime la tabla triangular de Neville de forma alineada.\n",
        "    print(\"Tabla de interpolación de Neville:\")\n",
        "    n = len(Q)\n",
        "    for i in range(n):\n",
        "        fila = \"\"\n",
        "        for j in range(n):\n",
        "            if j <= i:\n",
        "                fila += f\"{Q[i][j]:>12.7f} \"\n",
        "            else:\n",
        "                fila += \" \" * 13\n",
        "        print(fila)\n",
        "\n",
        "\n",
        "# ================= PRUEBA =====================\n",
        "# Datos de la Tabla 3.6\n",
        "X = [1.0, 1.3, 1.6, 1.9, 2.2]\n",
        "Y = [0.7651977, 0.6200860, 0.4554022, 0.2818186, 0.1103623]\n",
        "\n",
        "# Punto donde se desea interpolar\n",
        "x_eval = 1.5\n",
        "\n",
        "# Ejecutar interpolación de Neville\n",
        "Q, Px = neville(x_eval, X, Y)\n",
        "\n",
        "# Imprimir la tabla\n",
        "imprimir_tabla(Q)\n",
        "\n",
        "# Imprimir el resultado final\n",
        "print(f\"\\nValor interpolado P({x_eval}) = {Px:.7f}\")\n"
      ]
    }
  ]
}