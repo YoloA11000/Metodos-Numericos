{
  "nbformat": 4,
  "nbformat_minor": 0,
  "metadata": {
    "colab": {
      "provenance": [],
      "authorship_tag": "ABX9TyMzt/8GIX3VOUPrYiJLImFT",
      "include_colab_link": true
    },
    "kernelspec": {
      "name": "python3",
      "display_name": "Python 3"
    },
    "language_info": {
      "name": "python"
    }
  },
  "cells": [
    {
      "cell_type": "markdown",
      "metadata": {
        "id": "view-in-github",
        "colab_type": "text"
      },
      "source": [
        "<a href=\"https://colab.research.google.com/github/YoloA11000/Metodos-Numericos/blob/main/Newton_Cotes_cerradas_y_abiertas.ipynb\" target=\"_parent\"><img src=\"https://colab.research.google.com/assets/colab-badge.svg\" alt=\"Open In Colab\"/></a>"
      ]
    },
    {
      "cell_type": "code",
      "execution_count": 3,
      "metadata": {
        "colab": {
          "base_uri": "https://localhost:8080/"
        },
        "id": "j2B23FPC6Vo-",
        "outputId": "14c53780-de93-4303-a65b-ade80a0bde57"
      },
      "outputs": [
        {
          "output_type": "stream",
          "name": "stdout",
          "text": [
            "Ejemplo de Burden: ∫₀¹ 1 / (1 + x²) dx ≈ arctan(1) = π/4 ≈ 0.785398163397448\n",
            "\n",
            "Fórmulas de Newton-Cotes Cerradas:\n",
            "n = 1 → Aprox = 0.750000000000000\n",
            "n = 2 → Aprox = 0.391666666666667\n",
            "n = 3 → Aprox = 0.261538461538461\n",
            "n = 4 → Aprox = 0.196382352941176\n",
            "\n",
            "Fórmulas de Newton-Cotes Abiertas:\n",
            "n = 0 → Aprox = 0.400000000000000\n",
            "n = 1 → Aprox = 0.282692307692308\n",
            "n = 2 → Aprox = 0.330196078431373\n",
            "n = 3 → Aprox = 0.157346693610484\n"
          ]
        }
      ],
      "source": [
        "import sympy as sp\n",
        "\n",
        "# Defino la variable simbólica\n",
        "x = sp.symbols('x')\n",
        "\n",
        "# Función a integrar  f(x) = 1 / (1 + x^2)\n",
        "f = 1 / (1 + x**2)\n",
        "\n",
        "# Intervalo de integración\n",
        "a = 0\n",
        "b = 1\n",
        "\n",
        "# Número de subintervalos\n",
        "def newton_cotes_cerrado(f, a, b, n):\n",
        "    \"\"\"\n",
        "    Implementa la fórmula cerrada de Newton-Cotes para un valor de n entre 1 y 4.\n",
        "    Usa puntos equidistantes y evalúa la integral con pesos fijos conocidos.\n",
        "    \"\"\"\n",
        "    h = (b - a) / n  # Tamaño de paso\n",
        "    xi = [a + i * h for i in range(n + 1)]  # n+1 puntos\n",
        "\n",
        "    # Pesos para cada fórmula cerrada conocidos\n",
        "    if n == 1:  # Trapecio\n",
        "        coef = [1, 1]\n",
        "        denominador = 2\n",
        "    elif n == 2:  # Simpson 1/3\n",
        "        coef = [1, 4, 1]\n",
        "        denominador = 6\n",
        "    elif n == 3:  # Simpson 3/8\n",
        "        coef = [1, 3, 3, 1]\n",
        "        denominador = 8\n",
        "    elif n == 4:  # n = 4\n",
        "        coef = [7, 32, 12, 32, 7]\n",
        "        denominador = 90\n",
        "    else:\n",
        "        raise ValueError(\"Solo se admiten n = 1, 2, 3, 4 para Newton-Cotes cerradas.\")\n",
        "\n",
        "    suma = sum(coef[i] * f.subs(x, xi[i]) for i in range(n + 1))\n",
        "    return h * suma / denominador\n",
        "\n",
        "\n",
        "def newton_cotes_abierto(f, a, b, n):\n",
        "    \"\"\"\n",
        "    Implementa la fórmula abierta de Newton-Cotes para n = 0, 1, 2, 3.\n",
        "    No incluye los puntos extremos, y se usa h = (b - a) / (n + 2)\n",
        "    \"\"\"\n",
        "    h = (b - a) / (n + 2)\n",
        "    xi = [a + (i + 1) * h for i in range(n + 1)]  # Puntos internos (n+1)\n",
        "\n",
        "    # Pesos conocidos de fórmulas abiertas\n",
        "    if n == 0:\n",
        "        coef = [1]\n",
        "        denominador = 1\n",
        "    elif n == 1:\n",
        "        coef = [3, 1]\n",
        "        denominador = 4\n",
        "    elif n == 2:\n",
        "        coef = [4, 2, 4]\n",
        "        denominador = 6\n",
        "    elif n == 3:\n",
        "        coef = [11, 1, 1, 11]\n",
        "        denominador = 24\n",
        "    else:\n",
        "        raise ValueError(\"Solo se admiten n = 0, 1, 2, 3 para Newton-Cotes abiertas.\")\n",
        "\n",
        "    suma = sum(coef[i] * f.subs(x, xi[i]) for i in range(n + 1))\n",
        "    return h * suma / denominador\n",
        "\n",
        "\n",
        "# PRUEBA:\n",
        "print(\"Ejemplo de Burden: ∫₀¹ 1 / (1 + x²) dx ≈ arctan(1) = π/4 ≈\", sp.N(sp.pi/4))\n",
        "\n",
        "# Fórmulas cerradas\n",
        "print(\"\\nFórmulas de Newton-Cotes Cerradas:\")\n",
        "for n in range(1, 5):\n",
        "    resultado = newton_cotes_cerrado(f, a, b, n)\n",
        "    print(f\"n = {n} → Aprox = {sp.N(resultado)}\")\n",
        "\n",
        "# Fórmulas abiertas\n",
        "print(\"\\nFórmulas de Newton-Cotes Abiertas:\")\n",
        "for n in range(0, 4):\n",
        "    resultado = newton_cotes_abierto(f, a, b, n)\n",
        "    print(f\"n = {n} → Aprox = {sp.N(resultado)}\")"
      ]
    }
  ]
}