{
  "nbformat": 4,
  "nbformat_minor": 0,
  "metadata": {
    "colab": {
      "provenance": [],
      "authorship_tag": "ABX9TyM1fPivuCAFjf7eI0I+23Id",
      "include_colab_link": true
    },
    "kernelspec": {
      "name": "python3",
      "display_name": "Python 3"
    },
    "language_info": {
      "name": "python"
    }
  },
  "cells": [
    {
      "cell_type": "markdown",
      "metadata": {
        "id": "view-in-github",
        "colab_type": "text"
      },
      "source": [
        "<a href=\"https://colab.research.google.com/github/YoloA11000/Metodos-Numericos/blob/main/M%C3%A9todo_de_la_Secante.ipynb\" target=\"_parent\"><img src=\"https://colab.research.google.com/assets/colab-badge.svg\" alt=\"Open In Colab\"/></a>"
      ]
    },
    {
      "cell_type": "markdown",
      "source": [
        "# Método de la secante\n"
      ],
      "metadata": {
        "id": "lXm200wjzL5Y"
      }
    },
    {
      "cell_type": "code",
      "execution_count": 11,
      "metadata": {
        "colab": {
          "base_uri": "https://localhost:8080/",
          "height": 454
        },
        "id": "00diICLtwv7-",
        "outputId": "455eed29-0d24-433a-90a6-9dda572941d6"
      },
      "outputs": [
        {
          "output_type": "error",
          "ename": "TypeError",
          "evalue": "loop of ufunc does not support argument 0 of type Mul which has no callable cos method",
          "traceback": [
            "\u001b[0;31m---------------------------------------------------------------------------\u001b[0m",
            "\u001b[0;31mAttributeError\u001b[0m                            Traceback (most recent call last)",
            "\u001b[0;31mAttributeError\u001b[0m: 'Mul' object has no attribute 'cos'",
            "\nThe above exception was the direct cause of the following exception:\n",
            "\u001b[0;31mTypeError\u001b[0m                                 Traceback (most recent call last)",
            "\u001b[0;32m<ipython-input-11-5c5827ea32c7>\u001b[0m in \u001b[0;36m<cell line: 0>\u001b[0;34m()\u001b[0m\n\u001b[1;32m     71\u001b[0m \u001b[0;34m\u001b[0m\u001b[0m\n\u001b[1;32m     72\u001b[0m \u001b[0;31m# Ejecutar el método\u001b[0m\u001b[0;34m\u001b[0m\u001b[0;34m\u001b[0m\u001b[0m\n\u001b[0;32m---> 73\u001b[0;31m \u001b[0mraiz\u001b[0m \u001b[0;34m=\u001b[0m \u001b[0mmetodo_secante\u001b[0m\u001b[0;34m(\u001b[0m\u001b[0mf\u001b[0m\u001b[0;34m,\u001b[0m \u001b[0mp0\u001b[0m\u001b[0;34m,\u001b[0m \u001b[0mp1\u001b[0m\u001b[0;34m,\u001b[0m \u001b[0mtol\u001b[0m\u001b[0;34m,\u001b[0m \u001b[0mN0\u001b[0m\u001b[0;34m)\u001b[0m\u001b[0;34m\u001b[0m\u001b[0;34m\u001b[0m\u001b[0m\n\u001b[0m",
            "\u001b[0;32m<ipython-input-11-5c5827ea32c7>\u001b[0m in \u001b[0;36mmetodo_secante\u001b[0;34m(f, p0, p1, tol, N0)\u001b[0m\n\u001b[1;32m     24\u001b[0m     \u001b[0mi\u001b[0m \u001b[0;34m=\u001b[0m \u001b[0;36m2\u001b[0m\u001b[0;34m\u001b[0m\u001b[0;34m\u001b[0m\u001b[0m\n\u001b[1;32m     25\u001b[0m     \u001b[0mq0\u001b[0m \u001b[0;34m=\u001b[0m \u001b[0mf_lambdified\u001b[0m\u001b[0;34m(\u001b[0m\u001b[0mp0\u001b[0m\u001b[0;34m)\u001b[0m  \u001b[0;31m# q0 = f(p0)\u001b[0m\u001b[0;34m\u001b[0m\u001b[0;34m\u001b[0m\u001b[0m\n\u001b[0;32m---> 26\u001b[0;31m     \u001b[0mq1\u001b[0m \u001b[0;34m=\u001b[0m \u001b[0mf_lambdified\u001b[0m\u001b[0;34m(\u001b[0m\u001b[0mp1\u001b[0m\u001b[0;34m)\u001b[0m  \u001b[0;31m# q1 = f(p1)\u001b[0m\u001b[0;34m\u001b[0m\u001b[0;34m\u001b[0m\u001b[0m\n\u001b[0m\u001b[1;32m     27\u001b[0m \u001b[0;34m\u001b[0m\u001b[0m\n\u001b[1;32m     28\u001b[0m     \u001b[0;31m# Lista para almacenar los valores en cada iteración\u001b[0m\u001b[0;34m\u001b[0m\u001b[0;34m\u001b[0m\u001b[0m\n",
            "\u001b[0;32m<lambdifygenerated-8>\u001b[0m in \u001b[0;36m_lambdifygenerated\u001b[0;34m(x)\u001b[0m\n\u001b[1;32m      1\u001b[0m \u001b[0;32mdef\u001b[0m \u001b[0m_lambdifygenerated\u001b[0m\u001b[0;34m(\u001b[0m\u001b[0mx\u001b[0m\u001b[0;34m)\u001b[0m\u001b[0;34m:\u001b[0m\u001b[0;34m\u001b[0m\u001b[0;34m\u001b[0m\u001b[0m\n\u001b[0;32m----> 2\u001b[0;31m     \u001b[0;32mreturn\u001b[0m \u001b[0;34m-\u001b[0m\u001b[0mx\u001b[0m \u001b[0;34m+\u001b[0m \u001b[0mcos\u001b[0m\u001b[0;34m(\u001b[0m\u001b[0mx\u001b[0m\u001b[0;34m)\u001b[0m\u001b[0;34m\u001b[0m\u001b[0;34m\u001b[0m\u001b[0m\n\u001b[0m",
            "\u001b[0;31mTypeError\u001b[0m: loop of ufunc does not support argument 0 of type Mul which has no callable cos method"
          ]
        }
      ],
      "source": [
        "import sympy as sp\n",
        "from tabulate import tabulate\n",
        "\n",
        "def metodo_secante(f, p0, p1, tol, N0):\n",
        "    \"\"\"\n",
        "    Implementación del método de la secante para encontrar una raíz de f(x) = 0.\n",
        "\n",
        "    Parámetros:\n",
        "        f  : función simbólica de sympy que representa f(x).\n",
        "        p0 : primera aproximación inicial.\n",
        "        p1 : segunda aproximación inicial.\n",
        "        tol: tolerancia para la convergencia.\n",
        "        N0 : número máximo de iteraciones.\n",
        "\n",
        "    Retorno:\n",
        "        Si el método converge, retorna la raíz encontrada y una tabla con los datos.\n",
        "        Si el método no converge, indica que falló después de N0 iteraciones.\n",
        "    \"\"\"\n",
        "\n",
        "    # Convertimos la función simbólica en una función evaluable\n",
        "    f_lambdified = sp.lambdify(sp.Symbol('x'), f)\n",
        "\n",
        "    # Paso 1: Inicializar variables\n",
        "    i = 2\n",
        "    q0 = f_lambdified(p0)  # q0 = f(p0)\n",
        "    q1 = f_lambdified(p1)  # q1 = f(p1)\n",
        "\n",
        "    # Lista para almacenar los valores en cada iteración\n",
        "    tabla = [[\"Iteración\", \"p0\", \"p1\", \"p\", \"f(p)\"]]\n",
        "\n",
        "    # Paso 2: Iteración hasta el máximo número de iteraciones N0\n",
        "    while i <= N0:\n",
        "        # Paso 3: Calcular la siguiente aproximación de la raíz\n",
        "        if q1 - q0 == 0:  # Evitar división por cero\n",
        "            print(\"El método falló debido a una división por cero.\")\n",
        "            return None\n",
        "\n",
        "        p = p1 - q1 * (p1 - p0) / (q1 - q0)  # Fórmula del método de la secante\n",
        "        fp = f_lambdified(p)  # Evaluar f en el nuevo valor p\n",
        "\n",
        "        # Guardar la iteración en la tabla\n",
        "        tabla.append([i - 1, float(p0), float(p1), float(p), float(fp)])\n",
        "\n",
        "        # Paso 4: Comprobar si la diferencia es menor que la tolerancia\n",
        "        if abs(p - p1) < tol:\n",
        "            print(\"El método fue exitoso.\")\n",
        "            print(tabulate(tabla, headers=\"firstrow\", tablefmt=\"fancy_grid\"))\n",
        "            return p\n",
        "\n",
        "        # Paso 5: Incrementar iteración\n",
        "        i += 1\n",
        "\n",
        "        # Paso 6: Actualizar variables para la siguiente iteración\n",
        "        p0, q0 = p1, q1\n",
        "        p1, q1 = p, fp\n",
        "\n",
        "    # Paso 7: Si no se encontró la raíz después de N0 iteraciones\n",
        "    print(f\"El método falló después de {N0} iteraciones.\")\n",
        "    print(tabulate(tabla, headers=\"firstrow\", tablefmt=\"fancy_grid\"))\n",
        "    return None\n",
        "\n",
        "# Definir la función simbólica f(x) = cos(x) - x\n",
        "x = sp.Symbol('x')\n",
        "f = sp.cos(x) - x\n",
        "\n",
        "# Parámetros iniciales\n",
        "p0 = 1.0  # Primera aproximación inicial\n",
        "p1 = sp.pi / 4  # Segunda aproximación inicial π/4\n",
        "tol = 1e-6  # Tolerancia\n",
        "N0 = 20  # Máximo de iteraciones\n",
        "\n",
        "# Ejecutar el método\n",
        "raiz = metodo_secante(f, p0, p1, tol, N0)"
      ]
    }
  ]
}