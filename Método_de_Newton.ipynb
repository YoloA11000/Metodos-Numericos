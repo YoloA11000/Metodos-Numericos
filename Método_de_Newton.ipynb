{
  "nbformat": 4,
  "nbformat_minor": 0,
  "metadata": {
    "colab": {
      "provenance": [],
      "authorship_tag": "ABX9TyOeyScQWTnITYZScDPHUp0j",
      "include_colab_link": true
    },
    "kernelspec": {
      "name": "python3",
      "display_name": "Python 3"
    },
    "language_info": {
      "name": "python"
    }
  },
  "cells": [
    {
      "cell_type": "markdown",
      "metadata": {
        "id": "view-in-github",
        "colab_type": "text"
      },
      "source": [
        "<a href=\"https://colab.research.google.com/github/YoloA11000/Metodos-Numericos/blob/main/M%C3%A9todo_de_Newton.ipynb\" target=\"_parent\"><img src=\"https://colab.research.google.com/assets/colab-badge.svg\" alt=\"Open In Colab\"/></a>"
      ]
    },
    {
      "cell_type": "markdown",
      "source": [
        "# Método de Newton\n",
        "La base para el método de Newton, que empieza con un a aproximacion inicial en $p_{0}$ y general la sucesión {$P_{n}$}$_{n=0}$, mediante\n",
        "\n",
        "$$ p_n = p_{n-1} - \\frac{f(p_{n-1})}{f'(p_{n-1})}, \\quad \\text{para } n \\geq 1. $$"
      ],
      "metadata": {
        "id": "B0E0qVY1k4g2"
      }
    },
    {
      "cell_type": "code",
      "execution_count": 7,
      "metadata": {
        "colab": {
          "base_uri": "https://localhost:8080/"
        },
        "id": "3QjE40imkzPp",
        "outputId": "77ebba26-0565-485b-965b-4d0846bf9388"
      },
      "outputs": [
        {
          "output_type": "stream",
          "name": "stdout",
          "text": [
            "\n",
            "El procedimiento fue exitoso.\n",
            "\n",
            "+-------------+----------+--------------+----------+----------+-------------+\n",
            "|   Iteración |       p0 |        f(p0) |   f'(p0) |        p |       Error |\n",
            "+=============+==========+==============+==========+==========+=============+\n",
            "|           1 | 0        |  1           | -1       | 1        | 1           |\n",
            "+-------------+----------+--------------+----------+----------+-------------+\n",
            "|           2 | 1        | -0.459698    | -1.84147 | 0.750364 | 0.249636    |\n",
            "+-------------+----------+--------------+----------+----------+-------------+\n",
            "|           3 | 0.750364 | -0.0189231   | -1.6819  | 0.739113 | 0.011251    |\n",
            "+-------------+----------+--------------+----------+----------+-------------+\n",
            "|           4 | 0.739113 | -4.64559e-05 | -1.67363 | 0.739085 | 2.77575e-05 |\n",
            "+-------------+----------+--------------+----------+----------+-------------+\n",
            "|           5 | 0.739085 | -2.84721e-10 | -1.67361 | 0.739085 | 1.70123e-10 |\n",
            "+-------------+----------+--------------+----------+----------+-------------+\n"
          ]
        },
        {
          "output_type": "execute_result",
          "data": {
            "text/plain": [
              "np.float64(0.7390851332151607)"
            ]
          },
          "metadata": {},
          "execution_count": 7
        }
      ],
      "source": [
        "\n",
        "import sympy as sp\n",
        "from tabulate import tabulate\n",
        "\n",
        "def newton(f_expr, p0, tol, N0):\n",
        "    \"\"\"\n",
        "    Parámetros:\n",
        "    - f_expr: Expresión de la función f(x) en formato de cadena.\n",
        "    - p0: Aproximación inicial.\n",
        "    - tol: Tolerancia para el criterio de convergencia.\n",
        "    - N0: Número máximo de iteraciones.\n",
        "\n",
        "    Salida:\n",
        "    - Aproximación de la raíz si el método converge.\n",
        "    - Mensaje de falla si no converge después de N0 iteraciones.\n",
        "    \"\"\"\n",
        "\n",
        "    # Paso 1: Definir i = 1\n",
        "    i = 1\n",
        "\n",
        "    # Definir la variable simbólica y la función\n",
        "    x = sp.symbols('x')\n",
        "    f = sp.sympify(f_expr)  # Convertir la expresión en una función simbólica\n",
        "    f_prime = sp.diff(f, x)  # Calcular la derivada de la función\n",
        "\n",
        "    # Convertir las funciones simbólicas en funciones numéricas\n",
        "    f_num = sp.lambdify(x, f, 'numpy')\n",
        "    f_prime_num = sp.lambdify(x, f_prime, 'numpy')\n",
        "\n",
        "    # Tabla para almacenar los resultados de cada iteración\n",
        "    tabla = []\n",
        "\n",
        "    # Paso 2: Mientras i <= N0, hacer los pasos 3-6\n",
        "    while i <= N0:\n",
        "        # Paso 3: Calcular p usando la fórmula de Newton\n",
        "        p = p0 - f_num(p0) / f_prime_num(p0)\n",
        "\n",
        "        # Calcular el error absoluto\n",
        "        error = abs(p - p0)\n",
        "\n",
        "        # Guardar los valores de la iteración en la tabla\n",
        "        tabla.append([i, p0, f_num(p0), f_prime_num(p0), p, error])\n",
        "\n",
        "        # Paso 4: Verificar el criterio de parada\n",
        "        if error < tol:\n",
        "            print(\"\\nEl procedimiento fue exitoso.\\n\")\n",
        "            print(tabulate(tabla, headers=[\"Iteración\", \"p0\", \"f(p0)\", \"f'(p0)\", \"p\", \"Error\"], tablefmt=\"grid\"))\n",
        "            return p  # Devolver la solución encontrada\n",
        "\n",
        "        # Paso 5: Incrementar i\n",
        "        i += 1\n",
        "\n",
        "        # Paso 6: Actualizar p0 con el nuevo valor de p\n",
        "        p0 = p\n",
        "\n",
        "    # Paso 7: Si se llega aquí, el método falló después de N0 iteraciones\n",
        "    print(\"\\nEl método falló después de {} iteraciones.\\n\".format(N0))\n",
        "    print(tabulate(tabla, headers=[\"Iteración\", \"p0\", \"f(p0)\", \"f'(p0)\", \"p\", \"Error\"], tablefmt=\"grid\"))\n",
        "    return None  # Indicar que no se encontró solución en N0 iteraciones\n",
        "\n",
        "# Ejemplo de uso\n",
        "f_expr = \"cos(x)-x\"  # Función f(x)\n",
        "p0 = 0  # Aproximación inicial\n",
        "tol = 1e-5  # Tolerancia\n",
        "N0 = 100  # Número máximo de iteraciones\n",
        "\n",
        "newton(f_expr, p0, tol, N0)"
      ]
    }
  ]
}