{
  "nbformat": 4,
  "nbformat_minor": 0,
  "metadata": {
    "colab": {
      "provenance": [],
      "authorship_tag": "ABX9TyPkH4Nw+mHvoT4YIgDSpROk",
      "include_colab_link": true
    },
    "kernelspec": {
      "name": "python3",
      "display_name": "Python 3"
    },
    "language_info": {
      "name": "python"
    }
  },
  "cells": [
    {
      "cell_type": "markdown",
      "metadata": {
        "id": "view-in-github",
        "colab_type": "text"
      },
      "source": [
        "<a href=\"https://colab.research.google.com/github/YoloA11000/Metodos-Numericos/blob/main/F%C3%B3rmula_de_las_diferencias_divididas_de_Newton.ipynb\" target=\"_parent\"><img src=\"https://colab.research.google.com/assets/colab-badge.svg\" alt=\"Open In Colab\"/></a>"
      ]
    },
    {
      "cell_type": "markdown",
      "source": [
        "Fórmula de las diferencias divididas de Newton\n",
        "Para obtener los coheficientes de las diferencias divividas del polinomio de interpolación P en los (n+1) números distintos X_0, X_1, ..., X_n para la función f."
      ],
      "metadata": {
        "id": "JGt8ItgShWWP"
      }
    },
    {
      "cell_type": "code",
      "execution_count": 1,
      "metadata": {
        "colab": {
          "base_uri": "https://localhost:8080/"
        },
        "id": "UVWbsAy6f_po",
        "outputId": "00b74f4b-a83f-4ee2-b149-d20daf1cc1ad"
      },
      "outputs": [
        {
          "output_type": "stream",
          "name": "stdout",
          "text": [
            "Tabla de diferencias divididas de Newton:\n",
            "   0.7651977                                                     \n",
            "   0.6200860   -0.4837057                                        \n",
            "   0.4554022   -0.5489460   -0.1087339                           \n",
            "   0.2818186   -0.5786120   -0.0494433    0.0658784              \n",
            "   0.1103623   -0.5715210    0.0118183    0.0680685    0.0018251 \n",
            "\n",
            "Coeficientes del polinomio de Newton:\n",
            "a0 = 0.7651977\n",
            "a1 = -0.4837057\n",
            "a2 = -0.1087339\n",
            "a3 = 0.0658784\n",
            "a4 = 0.0018251\n"
          ]
        }
      ],
      "source": [
        "def diferencias_divididas(X, Y):\n",
        "    \"\"\"\n",
        "    Calcula la tabla de diferencias divididas de Newton.\n",
        "\n",
        "    Parámetros:\n",
        "    X : Lista de nodos x0, x1, ..., xn.\n",
        "    Y : Lista de valores f(x0), f(x1), ..., f(xn).\n",
        "\n",
        "    Retorna:\n",
        "    F : Tabla triangular de diferencias divididas.\n",
        "        Los coeficientes del polinomio están en la diagonal: F[0][0], F[1][1], ..., F[n][n]\n",
        "    \"\"\"\n",
        "    n = len(X)\n",
        "    # Inicializa la tabla con ceros\n",
        "    F = [[0.0 for _ in range(n)] for _ in range(n)]\n",
        "\n",
        "    # Primera columna: f(xi)\n",
        "    for i in range(n):\n",
        "        F[i][0] = Y[i]\n",
        "\n",
        "    # Calcula las diferencias divididas\n",
        "    for i in range(1, n):  # nivel\n",
        "        for j in range(1, i + 1):  # posición en la fila i\n",
        "            numerador = F[i][j - 1] - F[i - 1][j - 1]\n",
        "            denominador = X[i] - X[i - j]\n",
        "            F[i][j] = numerador / denominador\n",
        "\n",
        "    return F\n",
        "\n",
        "\n",
        "def imprimir_tabla(F):\n",
        "    \"\"\"\n",
        "    Imprime la tabla de diferencias divididas de forma alineada.\n",
        "\n",
        "    Parámetro:\n",
        "    F : Tabla de diferencias divididas.\n",
        "    \"\"\"\n",
        "    print(\"Tabla de diferencias divididas de Newton:\")\n",
        "    n = len(F)\n",
        "    for i in range(n):\n",
        "        fila = \"\"\n",
        "        for j in range(n):\n",
        "            if j <= i:\n",
        "                fila += f\"{F[i][j]:>12.7f} \"\n",
        "            else:\n",
        "                fila += \" \" * 13\n",
        "        print(fila)\n",
        "\n",
        "\n",
        "# ========== PRUEBA  ==========\n",
        "X = [1.0, 1.3, 1.6, 1.9, 2.2]\n",
        "Y = [0.7651977, 0.6200860, 0.4554022, 0.2818186, 0.1103623]\n",
        "\n",
        "# Ejecutar algoritmo de diferencias divididas\n",
        "F = diferencias_divididas(X, Y)\n",
        "\n",
        "# Imprimir tabla\n",
        "imprimir_tabla(F)\n",
        "\n",
        "# Mostrar los coeficientes del polinomio\n",
        "print(\"\\nCoeficientes del polinomio de Newton:\")\n",
        "for i in range(len(F)):\n",
        "    print(f\"a{i} = {F[i][i]:.7f}\")\n"
      ]
    }
  ]
}