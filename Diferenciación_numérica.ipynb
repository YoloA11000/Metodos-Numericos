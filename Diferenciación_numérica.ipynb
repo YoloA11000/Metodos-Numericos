{
  "nbformat": 4,
  "nbformat_minor": 0,
  "metadata": {
    "colab": {
      "provenance": [],
      "authorship_tag": "ABX9TyM6xw1BiBgEK8KQsiuJD1w4",
      "include_colab_link": true
    },
    "kernelspec": {
      "name": "python3",
      "display_name": "Python 3"
    },
    "language_info": {
      "name": "python"
    }
  },
  "cells": [
    {
      "cell_type": "markdown",
      "metadata": {
        "id": "view-in-github",
        "colab_type": "text"
      },
      "source": [
        "<a href=\"https://colab.research.google.com/github/YoloA11000/Metodos-Numericos/blob/main/Diferenciaci%C3%B3n_num%C3%A9rica.ipynb\" target=\"_parent\"><img src=\"https://colab.research.google.com/assets/colab-badge.svg\" alt=\"Open In Colab\"/></a>"
      ]
    },
    {
      "cell_type": "markdown",
      "source": [
        "La derivada exacta de\n",
        "$𝑓(𝑥)=𝑥𝑒^𝑥$ en $𝑥=2.0$ es:\n",
        "$$\n",
        "𝑓′(𝑥)=𝑒^𝑥(𝑥+1)⇒𝑓′(2.0)=𝑒^2(2+1)=3𝑒^2≈22.167\n",
        "$$\n",
        "Las aproximaciones obtenidas son muy cercanas a este valor."
      ],
      "metadata": {
        "id": "z1vxunoRTfAm"
      }
    },
    {
      "cell_type": "code",
      "execution_count": 6,
      "metadata": {
        "colab": {
          "base_uri": "https://localhost:8080/"
        },
        "id": "qMJerDsz4S8i",
        "outputId": "047506d5-dae6-46a1-9474-568183837481"
      },
      "outputs": [
        {
          "output_type": "stream",
          "name": "stdout",
          "text": [
            "=== Aproximaciones para f'(2.0) con diferentes fórmulas ===\n",
            "\n",
            "1) Fórmula del extremo de tres puntos:\n",
            "   h =  0.1 → f'(2.0) ≈ 22.032310\n",
            "   h = -0.1 → f'(2.0) ≈ 22.054525\n",
            "\n",
            "2) Fórmula del punto medio de tres puntos:\n",
            "   h =  0.1 → f'(2.0) ≈ 22.228790\n",
            "   h =  0.2 → f'(2.0) ≈ 22.414162\n",
            "\n",
            "3) Fórmula del punto medio de cinco puntos:\n",
            "   h = 0.1 → f'(2.0) ≈ 22.166999\n",
            "\n",
            "4) Fórmula del extremo de cinco puntos:\n",
            "   No se puede aplicar con los datos disponibles (faltan puntos hacia adelante).\n",
            "\n",
            "5) Fórmula del punto medio para la segunda derivada:\n",
            "   h = 0.1 → f''(2.0) ≈ 29.593200\n"
          ]
        }
      ],
      "source": [
        "import sympy as sp\n",
        "\n",
        "# Tabla de valores f(x) = x * e^x\n",
        "datos = {\n",
        "    1.8: 10.889365,\n",
        "    1.9: 12.703199,\n",
        "    2.0: 14.778112,\n",
        "    2.1: 17.148957,\n",
        "    2.2: 19.855030\n",
        "}\n",
        "\n",
        "# Función que representa los valores tabulados\n",
        "# Devuelve 0.0 si el punto no está en la tabla\n",
        "def f_tab(x):\n",
        "    return datos.get(round(x, 1), 0.0)\n",
        "\n",
        "# 1) Derivada en el extremo con tres puntos\n",
        "# Fórmula: f'(x₀) ≈ (-3f(x₀) + 4f(x₀ + h) - f(x₀ + 2h)) / (2h)\n",
        "def derivada_extremo_tres_puntos(x0, h, f):\n",
        "    return (-3 * f(x0) + 4 * f(x0 + h) - f(x0 + 2*h)) / (2*h)\n",
        "\n",
        "# 2) Derivada en el punto medio con tres puntos\n",
        "# Fórmula: f'(x₀) ≈ (f(x₀ + h) - f(x₀ - h)) / (2h)\n",
        "def derivada_punto_medio_tres_puntos(x0, h, f):\n",
        "    return (f(x0 + h) - f(x0 - h)) / (2*h)\n",
        "\n",
        "# 3) Derivada en el punto medio con cinco puntos\n",
        "# Fórmula: f'(x₀) ≈ (f(x₀ - 2h) - 8f(x₀ - h) + 8f(x₀ + h) - f(x₀ + 2h)) / (12h)\n",
        "def derivada_punto_medio_cinco_puntos(x0, h, f):\n",
        "    return (f(x0 - 2*h) - 8*f(x0 - h) + 8*f(x0 + h) - f(x0 + 2*h)) / (12*h)\n",
        "\n",
        "# 4) Derivada en el extremo con cinco puntos\n",
        "# Fórmula: f'(x₀) ≈ (-25f(x₀) + 48f(x₀ + h) - 36f(x₀ + 2h) + 16f(x₀ + 3h) - 3f(x₀ + 4h)) / (12h)\n",
        "# No se aplica aquí porque no hay suficientes puntos hacia adelante de x = 2.0\n",
        "def derivada_extremo_cinco_puntos(x0, h, f):\n",
        "    return (-25*f(x0) + 48*f(x0 + h) - 36*f(x0 + 2*h) + 16*f(x0 + 3*h) - 3*f(x0 + 4*h)) / (12*h)\n",
        "\n",
        "# 5) Segunda derivada con fórmula centrada\n",
        "# Fórmula: f''(x₀) ≈ (f(x₀ + h) - 2f(x₀) + f(x₀ - h)) / h²\n",
        "def segunda_derivada_punto_medio(x0, h, f):\n",
        "    return (f(x0 + h) - 2*f(x0) + f(x0 - h)) / (h**2)\n",
        "\n",
        "# Punto donde se desea calcular la derivada\n",
        "x0 = 2.0\n",
        "\n",
        "# Imprimir resultados\n",
        "print(\"=== Aproximaciones para f'(2.0) con diferentes fórmulas ===\")\n",
        "print(\"\\n1) Fórmula del extremo de tres puntos:\")\n",
        "print(f\"   h =  0.1 → f'(2.0) ≈ {derivada_extremo_tres_puntos(x0, 0.1, f_tab):.6f}\")\n",
        "print(f\"   h = -0.1 → f'(2.0) ≈ {derivada_extremo_tres_puntos(x0, -0.1, f_tab):.6f}\")\n",
        "\n",
        "print(\"\\n2) Fórmula del punto medio de tres puntos:\")\n",
        "print(f\"   h =  0.1 → f'(2.0) ≈ {derivada_punto_medio_tres_puntos(x0, 0.1, f_tab):.6f}\")\n",
        "print(f\"   h =  0.2 → f'(2.0) ≈ {derivada_punto_medio_tres_puntos(x0, 0.2, f_tab):.6f}\")\n",
        "\n",
        "print(\"\\n3) Fórmula del punto medio de cinco puntos:\")\n",
        "print(f\"   h = 0.1 → f'(2.0) ≈ {derivada_punto_medio_cinco_puntos(x0, 0.1, f_tab):.6f}\")\n",
        "\n",
        "print(\"\\n4) Fórmula del extremo de cinco puntos:\")\n",
        "print(\"   No se puede aplicar con los datos disponibles (faltan puntos hacia adelante).\")\n",
        "\n",
        "print(\"\\n5) Fórmula del punto medio para la segunda derivada:\")\n",
        "print(f\"   h = 0.1 → f''(2.0) ≈ {segunda_derivada_punto_medio(x0, 0.1, f_tab):.6f}\")\n"
      ]
    }
  ]
}