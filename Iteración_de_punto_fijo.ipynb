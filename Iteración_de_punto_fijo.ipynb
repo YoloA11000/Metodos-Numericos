{
  "nbformat": 4,
  "nbformat_minor": 0,
  "metadata": {
    "colab": {
      "provenance": [],
      "authorship_tag": "ABX9TyM2IUISLTni8wyVm/Go0nQ6",
      "include_colab_link": true
    },
    "kernelspec": {
      "name": "python3",
      "display_name": "Python 3"
    },
    "language_info": {
      "name": "python"
    }
  },
  "cells": [
    {
      "cell_type": "markdown",
      "metadata": {
        "id": "view-in-github",
        "colab_type": "text"
      },
      "source": [
        "<a href=\"https://colab.research.google.com/github/YoloA11000/Metodos-Numericos/blob/main/Iteraci%C3%B3n_de_punto_fijo.ipynb\" target=\"_parent\"><img src=\"https://colab.research.google.com/assets/colab-badge.svg\" alt=\"Open In Colab\"/></a>"
      ]
    },
    {
      "cell_type": "markdown",
      "source": [
        "# Iteración de punto fijo\n",
        "Para aproximar el punto fijo de una función $g$, elegimos una aproximación inicial $p_{0}$ y generamos la sucesión $\\{ p_n \\}_{n=0}^{\\infty}$  al permitir $p_{n} =  g (p_{n-1})$, para cada $n\\geq1$. Si la sucesion converge a p y g es continua entonces\n",
        "\n",
        "$$\n",
        "p = \\lim_{n \\to \\infty} p_n = \\lim_{n \\to \\infty} g (p_{n-1}) = g(\\lim_{n \\to \\infty} p_{n-1}) = g(p)\n",
        "$$\n",
        "\n",
        "Y se obtiene una solución para $x= g(x)$\n"
      ],
      "metadata": {
        "id": "2IQGl89uZeHE"
      }
    },
    {
      "cell_type": "code",
      "execution_count": 4,
      "metadata": {
        "colab": {
          "base_uri": "https://localhost:8080/"
        },
        "id": "X_Trx-GeZXB7",
        "outputId": "871a76b8-294d-43e2-cb3a-63d0143ea726"
      },
      "outputs": [
        {
          "output_type": "stream",
          "name": "stdout",
          "text": [
            "El procedimiento fue exitoso.\n",
            "+-----+---------+--------------------+-------------+\n",
            "|   i |       p | p0                 |       Error |\n",
            "+=====+=========+====================+=============+\n",
            "|   1 | 1.5     | -                  |             |\n",
            "+-----+---------+--------------------+-------------+\n",
            "|   2 | 1.3484  | 1.5                | 0.1516      |\n",
            "+-----+---------+--------------------+-------------+\n",
            "|   3 | 1.36738 | 1.348399724926484  | 0.0189766   |\n",
            "+-----+---------+--------------------+-------------+\n",
            "|   4 | 1.36496 | 1.3673763719912828 | 0.00241936  |\n",
            "+-----+---------+--------------------+-------------+\n",
            "|   5 | 1.36526 | 1.364957015402487  | 0.000307733 |\n",
            "+-----+---------+--------------------+-------------+\n",
            "|   6 | 1.36523 | 1.3652647481134421 | 3.9154e-05  |\n",
            "+-----+---------+--------------------+-------------+\n",
            "|   7 | 1.36523 | 1.365225594160525  | 4.98151e-06 |\n",
            "+-----+---------+--------------------+-------------+\n",
            "|   8 | 1.36523 | 1.3652305756734338 | 6.33795e-07 |\n",
            "+-----+---------+--------------------+-------------+\n",
            "|   9 | 1.36523 | 1.3652299418781833 | 8.06374e-08 |\n",
            "+-----+---------+--------------------+-------------+\n",
            "|  10 | 1.36523 | 1.3652300225155685 | 1.02594e-08 |\n",
            "+-----+---------+--------------------+-------------+\n",
            "|  11 | 1.36523 | 1.365230012256122  | 1.3053e-09  |\n",
            "+-----+---------+--------------------+-------------+\n"
          ]
        },
        {
          "output_type": "execute_result",
          "data": {
            "text/plain": [
              "1.3652300135614253"
            ]
          },
          "metadata": {},
          "execution_count": 4
        }
      ],
      "source": [
        "from tabulate import tabulate #Importamos las librerias que vamos a usar\n",
        "import math\n",
        "\n",
        "def punto_fijo(g, p0, tol, N0): #Definimos la funcion principal\n",
        "    \"\"\"\n",
        "    Implementa el método de iteración de punto fijo.\n",
        "\n",
        "    Parámetros:\n",
        "    g   -- Función de iteración g(p)\n",
        "    p0  -- Aproximación inicial\n",
        "    tol -- Tolerancia\n",
        "    N0  -- Número máximo de iteraciones\n",
        "\n",
        "    Retorna:\n",
        "    Una tabla con la evolución de la aproximación.\n",
        "    \"\"\"\n",
        "    i = 1  # Paso 1: Inicializar contador\n",
        "    datos = [(i, p0, \"-\")]  # Paso 2: Inicializar tabla\n",
        "\n",
        "    while i <= N0:  # Iterar hasta que se alcance el número máximo de iteraciones\n",
        "        p = g(p0)  # Paso 3: Calcular p_i\n",
        "        error = abs(p - p0)\n",
        "        datos.append((i + 1, p, p0, error))\n",
        "\n",
        "        if error < tol:  # Paso 4: Verificar tolerancia\n",
        "            print(\"El procedimiento fue exitoso.\")\n",
        "            print(tabulate(datos, headers=[\"i\", \"p\", \"p0\", \"Error\"], tablefmt=\"grid\"))\n",
        "            return p\n",
        "\n",
        "        i += 1  # Paso 5: Incrementar contador\n",
        "        p0 = p  # Paso 6: Actualizar p0\n",
        "\n",
        "    # Si se alcanzó el número máximo de iteraciones\n",
        "    print(f\"El método falló después de {N0} iteraciones.\")\n",
        "    print(tabulate(datos, headers=[\"i\", \"p\", \"p0\", \"Error\"], tablefmt=\"grid\"))\n",
        "    return None\n",
        "\n",
        "# Ejemplo de uso\n",
        "def g(p):\n",
        "    return math.sqrt ( 10 / (4 + p)) # Función de iteración\n",
        "\n",
        "punto_fijo(g, p0=1.5, tol=1e-8, N0=100)\n",
        "\n",
        "\n",
        "\n"
      ]
    }
  ]
}