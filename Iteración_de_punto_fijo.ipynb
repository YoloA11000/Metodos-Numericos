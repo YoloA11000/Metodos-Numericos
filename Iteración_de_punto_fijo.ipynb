{
  "nbformat": 4,
  "nbformat_minor": 0,
  "metadata": {
    "colab": {
      "provenance": [],
      "authorship_tag": "ABX9TyMY4gWhMUYsypEo9qz6JiFy",
      "include_colab_link": true
    },
    "kernelspec": {
      "name": "python3",
      "display_name": "Python 3"
    },
    "language_info": {
      "name": "python"
    }
  },
  "cells": [
    {
      "cell_type": "markdown",
      "metadata": {
        "id": "view-in-github",
        "colab_type": "text"
      },
      "source": [
        "<a href=\"https://colab.research.google.com/github/YoloA11000/Metodos-Numericos/blob/main/Iteraci%C3%B3n_de_punto_fijo.ipynb\" target=\"_parent\"><img src=\"https://colab.research.google.com/assets/colab-badge.svg\" alt=\"Open In Colab\"/></a>"
      ]
    },
    {
      "cell_type": "markdown",
      "source": [
        "# Iteración de punto fijo\n",
        "Para aproximar el punto fijo de una función $g$, elegimos una aproximación inicial $p_{0}$ y generamos la sucesión $\\{ p_n \\}_{n=0}^{\\infty}$  al permitir $p_{n} =  g (p_{n-1})$, para cada $n\\geq1$. Si la sucesion converge a p y g es continua entonces\n",
        "\n",
        "$$\n",
        "p = \\lim_{n \\to \\infty} p_n = \\lim_{n \\to \\infty} g (p_{n-1}) = g(\\lim_{n \\to \\infty} p_{n-1}) = g(p)\n",
        "$$\n",
        "\n",
        "Y se obtiene una solución para $x= g(x)$\n"
      ],
      "metadata": {
        "id": "2IQGl89uZeHE"
      }
    },
    {
      "cell_type": "code",
      "execution_count": 15,
      "metadata": {
        "colab": {
          "base_uri": "https://localhost:8080/"
        },
        "id": "X_Trx-GeZXB7",
        "outputId": "8ff8d2cc-81e7-4db0-c547-19d3670accf0"
      },
      "outputs": [
        {
          "output_type": "stream",
          "name": "stdout",
          "text": [
            "El procedimiento fue exitoso.\n",
            "+-----+---------+--------------------+-------------+\n",
            "|   i |       p | p0                 |       Error |\n",
            "+=====+=========+====================+=============+\n",
            "|   1 | 1.5     | -                  |             |\n",
            "+-----+---------+--------------------+-------------+\n",
            "|   2 | 1.28695 | 1.5                | 0.213046    |\n",
            "+-----+---------+--------------------+-------------+\n",
            "|   3 | 1.40254 | 1.286953767623375  | 0.115587    |\n",
            "+-----+---------+--------------------+-------------+\n",
            "|   4 | 1.34546 | 1.4025408035395783 | 0.0570824   |\n",
            "+-----+---------+--------------------+-------------+\n",
            "|   5 | 1.37517 | 1.3454583740232942 | 0.0297119   |\n",
            "+-----+---------+--------------------+-------------+\n",
            "|   6 | 1.36009 | 1.3751702528160383 | 0.0150761   |\n",
            "+-----+---------+--------------------+-------------+\n",
            "|   7 | 1.36785 | 1.360094192761733  | 0.00775277  |\n",
            "+-----+---------+--------------------+-------------+\n",
            "|   8 | 1.36389 | 1.3678469675921328 | 0.00395996  |\n",
            "+-----+---------+--------------------+-------------+\n",
            "|   9 | 1.36592 | 1.3638870038840212 | 0.00202973  |\n",
            "+-----+---------+--------------------+-------------+\n",
            "|  10 | 1.36488 | 1.36591673339004   | 0.00103852  |\n",
            "+-----+---------+--------------------+-------------+\n",
            "|  11 | 1.36541 | 1.364878217193677  | 0.000531844 |\n",
            "+-----+---------+--------------------+-------------+\n",
            "|  12 | 1.36514 | 1.365410061169957  | 0.000272241 |\n",
            "+-----+---------+--------------------+-------------+\n",
            "|  13 | 1.36528 | 1.3651378206692129 | 0.000139388 |\n",
            "+-----+---------+--------------------+-------------+\n",
            "|  14 | 1.36521 | 1.3652772085244786 | 7.13582e-05 |\n",
            "+-----+---------+--------------------+-------------+\n",
            "|  15 | 1.36524 | 1.3652058502970472 | 3.65334e-05 |\n",
            "+-----+---------+--------------------+-------------+\n",
            "|  16 | 1.36522 | 1.3652423837188388 | 1.87035e-05 |\n",
            "+-----+---------+--------------------+-------------+\n",
            "|  17 | 1.36523 | 1.3652236802252822 | 9.57552e-06 |\n",
            "+-----+---------+--------------------+-------------+\n"
          ]
        },
        {
          "output_type": "execute_result",
          "data": {
            "text/plain": [
              "1.3652332557424998"
            ]
          },
          "metadata": {},
          "execution_count": 15
        }
      ],
      "source": [
        "from tabulate import tabulate #Importamos las librerias que vamos a usar\n",
        "import math\n",
        "\n",
        "def punto_fijo(g, p0, tol, N0): #Definimos la funcion principal\n",
        "    \"\"\"\n",
        "    Implementa el método de iteración de punto fijo.\n",
        "\n",
        "    Parámetros:\n",
        "    g   -- Función de iteración g(p)\n",
        "    p0  -- Aproximación inicial\n",
        "    tol -- Tolerancia\n",
        "    N0  -- Número máximo de iteraciones\n",
        "\n",
        "    Retorna:\n",
        "    Una tabla con la evolución de la aproximación.\n",
        "    \"\"\"\n",
        "    i = 1  # Paso 1: Inicializar contador\n",
        "    datos = [(i, p0, \"-\")]  # Paso 2: Inicializar tabla\n",
        "\n",
        "    while i <= N0:  # Iterar hasta que se alcance el número máximo de iteraciones\n",
        "        p = g(p0)  # Paso 3: Calcular p_i\n",
        "        error = abs(p - p0)\n",
        "        datos.append((i + 1, p, p0, error))\n",
        "\n",
        "        if error < tol:  # Paso 4: Verificar tolerancia\n",
        "            print(\"El procedimiento fue exitoso.\")\n",
        "            print(tabulate(datos, headers=[\"i\", \"p\", \"p0\", \"Error\"], tablefmt=\"grid\"))\n",
        "            return p\n",
        "\n",
        "        i += 1  # Paso 5: Incrementar contador\n",
        "        p0 = p  # Paso 6: Actualizar p0\n",
        "\n",
        "    # Si se alcanzó el número máximo de iteraciones\n",
        "    print(f\"El método falló después de {N0} iteraciones.\")\n",
        "    print(tabulate(datos, headers=[\"i\", \"p\", \"p0\", \"Error\"], tablefmt=\"grid\"))\n",
        "    return None\n",
        "\n",
        "# Ejemplo de uso\n",
        "def g(p):\n",
        "    return 0.5 * math.sqrt(10 - p**3)  # Función de iteración\n",
        "\n",
        "punto_fijo(g, p0=1.5, tol=1e-5, N0=100)\n",
        "\n",
        "\n",
        "\n"
      ]
    }
  ]
}